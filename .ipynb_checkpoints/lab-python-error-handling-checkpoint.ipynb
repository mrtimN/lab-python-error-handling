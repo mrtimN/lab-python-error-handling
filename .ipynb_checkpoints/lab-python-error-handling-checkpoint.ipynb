{
 "cells": [
  {
   "cell_type": "markdown",
   "id": "25d7736c-ba17-4aff-b6bb-66eba20fbf4e",
   "metadata": {},
   "source": [
    "# Lab | Error Handling"
   ]
  },
  {
   "cell_type": "markdown",
   "id": "bc99b386-7508-47a0-bcdb-d969deaf6c8b",
   "metadata": {},
   "source": [
    "## Exercise: Error Handling for Managing Customer Orders\n",
    "\n",
    "The implementation of your code for managing customer orders assumes that the user will always enter a valid input. \n",
    "\n",
    "For example, we could modify the `initialize_inventory` function to include error handling.\n",
    "   - If the user enters an invalid quantity (e.g., a negative value or a non-numeric value), display an error message and ask them to re-enter the quantity for that product.\n",
    "   - Use a try-except block to handle the error and continue prompting the user until a valid quantity is entered.\n",
    "\n",
    "```python\n",
    "# Step 1: Define the function for initializing the inventory with error handling\n",
    "def initialize_inventory(products):\n",
    "    inventory = {}\n",
    "    for product in products:\n",
    "        valid_quantity = False\n",
    "        while not valid_quantity:\n",
    "            try:\n",
    "                quantity = int(input(f\"Enter the quantity of {product}s available: \"))\n",
    "                if quantity < 0:\n",
    "                    raise ValueError(\"Invalid quantity! Please enter a non-negative value.\")\n",
    "                valid_quantity = True\n",
    "            except ValueError as error:\n",
    "                print(f\"Error: {error}\")\n",
    "        inventory[product] = quantity\n",
    "    return inventory\n",
    "\n",
    "# Or, in another way:\n",
    "\n",
    "def initialize_inventory(products):\n",
    "    inventory = {}\n",
    "    for product in products:\n",
    "        valid_input = False\n",
    "        while not valid_input:\n",
    "            try:\n",
    "                quantity = int(input(f\"Enter the quantity of {product}s available: \"))\n",
    "                if quantity >= 0:\n",
    "                    inventory[product] = quantity\n",
    "                    valid_input = True\n",
    "                else:\n",
    "                    print(\"Quantity cannot be negative. Please enter a valid quantity.\")\n",
    "            except ValueError:\n",
    "                print(\"Invalid input. Please enter a valid quantity.\")\n",
    "    return inventory\n",
    "```\n",
    "\n",
    "Let's enhance your code by implementing error handling to handle invalid inputs.\n",
    "\n",
    "Follow the steps below to complete the exercise:\n",
    "\n",
    "2. Modify the `calculate_total_price` function to include error handling.\n",
    "   - If the user enters an invalid price (e.g., a negative value or a non-numeric value), display an error message and ask them to re-enter the price for that product.\n",
    "   - Use a try-except block to handle the error and continue prompting the user until a valid price is entered.\n",
    "\n",
    "3. Modify the `get_customer_orders` function to include error handling.\n",
    "   - If the user enters an invalid number of orders (e.g., a negative value or a non-numeric value), display an error message and ask them to re-enter the number of orders.\n",
    "   - If the user enters an invalid product name (e.g., a product name that is not in the inventory), or that doesn't have stock available, display an error message and ask them to re-enter the product name. *Hint: you will need to pass inventory as a parameter*\n",
    "   - Use a try-except block to handle the error and continue prompting the user until a valid product name is entered.\n",
    "\n",
    "4. Test your code by running the program and deliberately entering invalid quantities and product names. Make sure the error handling mechanism works as expected.\n"
   ]
  },
  {
   "cell_type": "code",
   "execution_count": 78,
   "id": "30438b62-1158-4659-b0df-c959958b8403",
   "metadata": {},
   "outputs": [],
   "source": [
    "test_products = [\"t-shirt\", \"mug\", \"hat\", \"book\", \"keychain\"]\n",
    "\n",
    "def initialize_inventory(products):\n",
    "    return {product:int(input(f\"Please enter the quantity of {product} available:\")) for product in products}"
   ]
  },
  {
   "cell_type": "code",
   "execution_count": 80,
   "id": "4c43ef9d-3ce9-4fdd-980c-219bb38884b3",
   "metadata": {},
   "outputs": [],
   "source": [
    "# Step 1: Define the function for initializing the inventory with error handling\n",
    "def initialize_inventory(products):\n",
    "    inventory = {}\n",
    "    for product in products:\n",
    "        valid_quantity = False\n",
    "        while not valid_quantity:\n",
    "            try:\n",
    "                quantity = int(input(f\"Enter the quantity of {product}s available: \"))\n",
    "                if quantity < 0:\n",
    "                    raise ValueError(\"Invalid quantity! Please enter a non-negative value.\")\n",
    "                valid_quantity = True\n",
    "            except ValueError as error:\n",
    "                print(f\"Error: {error}\")\n",
    "        inventory[product] = quantity\n",
    "    return inventory"
   ]
  },
  {
   "cell_type": "code",
   "execution_count": 82,
   "id": "7be4285b-be08-4879-8770-380074ea2024",
   "metadata": {},
   "outputs": [],
   "source": [
    "def get_customer_orders(inventory):\n",
    "    valid_number_orders = False\n",
    "    customer_orders = []\n",
    "    while not valid_number_orders:\n",
    "        try:\n",
    "            number_orders = int(input(\"\\nPlease enter the number of customer orders:\"))\n",
    "            if number_orders < 0:\n",
    "                raise ValueError(\"Invalid number! Please enter a non-negative value.\")\n",
    "            valid_number_orders = True\n",
    "        except ValueError as error:\n",
    "            print(f\"Error: {error}\")\n",
    "        else:\n",
    "            for i in range(number_orders):\n",
    "                valid_product = False\n",
    "                while not valid_product:\n",
    "                    try:\n",
    "                        desired_product = input(\"Please enter the name of your desired product: \")\n",
    "                        if desired_product not in inventory.keys():\n",
    "                            raise ValueError(\"Desired product is not available. Choose another.\")\n",
    "                        elif inventory[desired_product] < 1:\n",
    "                            raise ValueError(\"Insufficient stock for desired product. Choose another. \")\n",
    "                        else:\n",
    "                            valid_product = True\n",
    "                        customer_orders.append(desired_product)\n",
    "                    except ValueError as error:\n",
    "                        print(f\"Error: {error}\")   \n",
    "                    else:\n",
    "                        return customer_orders"
   ]
  },
  {
   "cell_type": "code",
   "execution_count": 84,
   "id": "9373e9c7-97c7-4698-9f9f-092a53a3b9c4",
   "metadata": {},
   "outputs": [],
   "source": [
    "def calculate_price(customer_orders):\n",
    "    valid_price = False\n",
    "    total_price = 0\n",
    "    for product in customer_orders:\n",
    "        while not valid_price:\n",
    "            try:\n",
    "                product_price = input(f\"Please enter the price of {product}:\")\n",
    "                if product_price < 0:\n",
    "                    raise ValueError(\"Price can not be negative! Please enter a non-negative value.\")\n",
    "                elif product_price.isdigit() == False:\n",
    "                    raise ValueError(\"Invalid input. Please enter a number.\")\n",
    "                else:\n",
    "                    valid_number_orders = True\n",
    "                    total_price += product_price\n",
    "            except ValueError as error:\n",
    "                print(f\"Error: {error}\")\n",
    "            else:\n",
    "                return float(total_price)"
   ]
  },
  {
   "cell_type": "code",
   "execution_count": 86,
   "id": "fc3fb5d2-56c1-4fc7-981d-a43b20803e45",
   "metadata": {},
   "outputs": [],
   "source": [
    "def update_inventory(customer_orders, inventory):\n",
    "    #for key in customer_orders:\n",
    "        #if key in inventory and (inventory[key] := inventory[key] - 1) > 0:\n",
    "        #    continue\n",
    "        #print(f\"{key} {'is out of stock' if key in inventory else 'does not exist in the inventory'}.\")\n",
    "        #inventory.pop(key, None)\n",
    "    \n",
    "    for key in customer_orders:\n",
    "        if key in inventory:\n",
    "            inventory[key] -= 1\n",
    "            if inventory[key] <= 0:\n",
    "                inventory.pop(key)\n",
    "                print(f\"{key} is out of stock.\")\n",
    "        else:\n",
    "            print(f\"{key} does not exist in the inventory\")"
   ]
  },
  {
   "cell_type": "code",
   "execution_count": 88,
   "id": "9ef12853-ae9d-4032-9f6d-0a46c5e7c088",
   "metadata": {},
   "outputs": [],
   "source": [
    "def calculate_order_statistics(customer_orders, products):\n",
    "    return (len(customer_orders), len(customer_orders)/len(products)*100)"
   ]
  },
  {
   "cell_type": "code",
   "execution_count": 90,
   "id": "79a8c972-89e9-4c17-b0d4-deac16bd0e82",
   "metadata": {},
   "outputs": [],
   "source": [
    "def print_order_statistics(order_statistics):\n",
    "    print(\"\\nOrder statistics: \")\n",
    "    print(\"Total products ordered: \" + str(order_statistics[0]))\n",
    "    print(\"Percentage of Products ordered: \" + str(order_statistics[1]) + \"%\")"
   ]
  },
  {
   "cell_type": "code",
   "execution_count": 92,
   "id": "fd8662c8-7557-4847-9c4f-148400393cc0",
   "metadata": {},
   "outputs": [],
   "source": [
    "def print_updated_inventory(inventory):\n",
    "    #print(\"\\nUpdated inventory:\", *[f\"{key}: {value}\" for key, value in inventory.items()], sep=\"\\n\")\n",
    "\n",
    "    print(\"\\nUpdated inventory:\")\n",
    "    for key, value in inventory.items():\n",
    "        print(f\"{key}: {value}\")"
   ]
  },
  {
   "cell_type": "code",
   "execution_count": null,
   "id": "5739b249-4578-4bc4-98be-939b3a6cbdd5",
   "metadata": {},
   "outputs": [
    {
     "name": "stdin",
     "output_type": "stream",
     "text": [
      "Enter the quantity of t-shirts available:  1\n",
      "Enter the quantity of mugs available:  0\n",
      "Enter the quantity of hats available:  1\n",
      "Enter the quantity of books available:  1\n",
      "Enter the quantity of keychains available:  1\n",
      "\n",
      "Please enter the number of customer orders: 2\n",
      "Please enter the name of your desired product:  ef\n"
     ]
    },
    {
     "name": "stdout",
     "output_type": "stream",
     "text": [
      "Error: Desired product is not available. Choose another.\n"
     ]
    },
    {
     "name": "stdin",
     "output_type": "stream",
     "text": [
      "Please enter the name of your desired product:  ef\n"
     ]
    },
    {
     "name": "stdout",
     "output_type": "stream",
     "text": [
      "Error: Desired product is not available. Choose another.\n"
     ]
    },
    {
     "name": "stdin",
     "output_type": "stream",
     "text": [
      "Please enter the name of your desired product:  ef\n"
     ]
    },
    {
     "name": "stdout",
     "output_type": "stream",
     "text": [
      "Error: Desired product is not available. Choose another.\n"
     ]
    },
    {
     "name": "stdin",
     "output_type": "stream",
     "text": [
      "Please enter the name of your desired product:  mug\n"
     ]
    },
    {
     "name": "stdout",
     "output_type": "stream",
     "text": [
      "Error: Insufficient stock for desired product. Choose another. \n"
     ]
    },
    {
     "name": "stdin",
     "output_type": "stream",
     "text": [
      "Please enter the name of your desired product:  hat\n"
     ]
    },
    {
     "name": "stdout",
     "output_type": "stream",
     "text": [
      "\n",
      "Order statistics: \n",
      "Total products ordered: 1\n",
      "Percentage of Products ordered: 20.0%\n",
      "hat is out of stock.\n",
      "\n",
      "Updated inventory:\n",
      "t-shirt: 1\n",
      "mug: 0\n",
      "book: 1\n",
      "keychain: 1\n"
     ]
    }
   ],
   "source": [
    "test_inventory = initialize_inventory(test_products)\n",
    "test_customer_orders = get_customer_orders(test_inventory)\n",
    "\n",
    "print_order_statistics(calculate_order_statistics(test_customer_orders, test_products))\n",
    "update_inventory(test_customer_orders, test_inventory)\n",
    "print_updated_inventory(test_inventory)\n",
    "calculate_price(test_customer_orders)"
   ]
  },
  {
   "cell_type": "code",
   "execution_count": null,
   "id": "a465419e-30fb-4918-9b06-4687ab10d66d",
   "metadata": {},
   "outputs": [],
   "source": []
  }
 ],
 "metadata": {
  "kernelspec": {
   "display_name": "Python [conda env:base] *",
   "language": "python",
   "name": "conda-base-py"
  },
  "language_info": {
   "codemirror_mode": {
    "name": "ipython",
    "version": 3
   },
   "file_extension": ".py",
   "mimetype": "text/x-python",
   "name": "python",
   "nbconvert_exporter": "python",
   "pygments_lexer": "ipython3",
   "version": "3.12.7"
  }
 },
 "nbformat": 4,
 "nbformat_minor": 5
}
